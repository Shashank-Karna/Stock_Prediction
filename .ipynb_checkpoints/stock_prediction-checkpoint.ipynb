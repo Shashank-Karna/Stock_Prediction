{
 "cells": [
  {
   "cell_type": "code",
   "execution_count": 471,
   "id": "disabled-academy",
   "metadata": {},
   "outputs": [],
   "source": [
    "import math\n",
    "import pandas_datareader as web\n",
    "import numpy as np\n",
    "import pandas as pd\n",
    "from sklearn.preprocessing import MinMaxScaler\n",
    "from keras.models import Sequential\n",
    "from keras.layers import Dense, LSTM\n",
    "import matplotlib.pyplot as plt\n",
    "plt.style.use('fivethirtyeight')"
   ]
  },
  {
   "cell_type": "code",
   "execution_count": 472,
   "id": "italian-outreach",
   "metadata": {},
   "outputs": [],
   "source": [
    "df = web.DataReader('HINDUNILVR.NS', data_source='yahoo', start='2020-01-01', end='2022-05-01')\n",
    "# df"
   ]
  },
  {
   "cell_type": "code",
   "execution_count": 473,
   "id": "interested-farming",
   "metadata": {},
   "outputs": [
    {
     "data": {
      "text/html": [
       "<div>\n",
       "<style scoped>\n",
       "    .dataframe tbody tr th:only-of-type {\n",
       "        vertical-align: middle;\n",
       "    }\n",
       "\n",
       "    .dataframe tbody tr th {\n",
       "        vertical-align: top;\n",
       "    }\n",
       "\n",
       "    .dataframe thead th {\n",
       "        text-align: right;\n",
       "    }\n",
       "</style>\n",
       "<table border=\"1\" class=\"dataframe\">\n",
       "  <thead>\n",
       "    <tr style=\"text-align: right;\">\n",
       "      <th></th>\n",
       "      <th>High</th>\n",
       "      <th>Low</th>\n",
       "      <th>Open</th>\n",
       "      <th>Close</th>\n",
       "      <th>Volume</th>\n",
       "      <th>Adj Close</th>\n",
       "    </tr>\n",
       "    <tr>\n",
       "      <th>Date</th>\n",
       "      <th></th>\n",
       "      <th></th>\n",
       "      <th></th>\n",
       "      <th></th>\n",
       "      <th></th>\n",
       "      <th></th>\n",
       "    </tr>\n",
       "  </thead>\n",
       "  <tbody>\n",
       "    <tr>\n",
       "      <th>2020-01-01</th>\n",
       "      <td>1939.900024</td>\n",
       "      <td>1918.000000</td>\n",
       "      <td>1930.000000</td>\n",
       "      <td>1936.550049</td>\n",
       "      <td>543035.0</td>\n",
       "      <td>1877.706543</td>\n",
       "    </tr>\n",
       "    <tr>\n",
       "      <th>2020-01-02</th>\n",
       "      <td>1952.599976</td>\n",
       "      <td>1930.000000</td>\n",
       "      <td>1940.000000</td>\n",
       "      <td>1938.050049</td>\n",
       "      <td>663275.0</td>\n",
       "      <td>1879.160889</td>\n",
       "    </tr>\n",
       "    <tr>\n",
       "      <th>2020-01-03</th>\n",
       "      <td>1940.000000</td>\n",
       "      <td>1918.750000</td>\n",
       "      <td>1937.900024</td>\n",
       "      <td>1927.449951</td>\n",
       "      <td>1598825.0</td>\n",
       "      <td>1868.882935</td>\n",
       "    </tr>\n",
       "    <tr>\n",
       "      <th>2020-01-06</th>\n",
       "      <td>1929.400024</td>\n",
       "      <td>1911.250000</td>\n",
       "      <td>1927.349976</td>\n",
       "      <td>1915.449951</td>\n",
       "      <td>683129.0</td>\n",
       "      <td>1857.247437</td>\n",
       "    </tr>\n",
       "    <tr>\n",
       "      <th>2020-01-07</th>\n",
       "      <td>1931.000000</td>\n",
       "      <td>1918.000000</td>\n",
       "      <td>1919.250000</td>\n",
       "      <td>1920.699951</td>\n",
       "      <td>808935.0</td>\n",
       "      <td>1862.338013</td>\n",
       "    </tr>\n",
       "    <tr>\n",
       "      <th>...</th>\n",
       "      <td>...</td>\n",
       "      <td>...</td>\n",
       "      <td>...</td>\n",
       "      <td>...</td>\n",
       "      <td>...</td>\n",
       "      <td>...</td>\n",
       "    </tr>\n",
       "    <tr>\n",
       "      <th>2022-04-25</th>\n",
       "      <td>2162.000000</td>\n",
       "      <td>2047.000000</td>\n",
       "      <td>2100.000000</td>\n",
       "      <td>2100.750000</td>\n",
       "      <td>2437310.0</td>\n",
       "      <td>2100.750000</td>\n",
       "    </tr>\n",
       "    <tr>\n",
       "      <th>2022-04-26</th>\n",
       "      <td>2157.949951</td>\n",
       "      <td>2121.000000</td>\n",
       "      <td>2142.199951</td>\n",
       "      <td>2148.350098</td>\n",
       "      <td>1447088.0</td>\n",
       "      <td>2148.350098</td>\n",
       "    </tr>\n",
       "    <tr>\n",
       "      <th>2022-04-27</th>\n",
       "      <td>2152.399902</td>\n",
       "      <td>2103.500000</td>\n",
       "      <td>2147.800049</td>\n",
       "      <td>2145.100098</td>\n",
       "      <td>2214481.0</td>\n",
       "      <td>2145.100098</td>\n",
       "    </tr>\n",
       "    <tr>\n",
       "      <th>2022-04-28</th>\n",
       "      <td>2250.000000</td>\n",
       "      <td>2165.000000</td>\n",
       "      <td>2230.000000</td>\n",
       "      <td>2241.850098</td>\n",
       "      <td>5865359.0</td>\n",
       "      <td>2241.850098</td>\n",
       "    </tr>\n",
       "    <tr>\n",
       "      <th>2022-04-29</th>\n",
       "      <td>2290.000000</td>\n",
       "      <td>2222.550049</td>\n",
       "      <td>2244.399902</td>\n",
       "      <td>2234.850098</td>\n",
       "      <td>2678692.0</td>\n",
       "      <td>2234.850098</td>\n",
       "    </tr>\n",
       "  </tbody>\n",
       "</table>\n",
       "<p>579 rows × 6 columns</p>\n",
       "</div>"
      ],
      "text/plain": [
       "                   High          Low         Open        Close     Volume  \\\n",
       "Date                                                                        \n",
       "2020-01-01  1939.900024  1918.000000  1930.000000  1936.550049   543035.0   \n",
       "2020-01-02  1952.599976  1930.000000  1940.000000  1938.050049   663275.0   \n",
       "2020-01-03  1940.000000  1918.750000  1937.900024  1927.449951  1598825.0   \n",
       "2020-01-06  1929.400024  1911.250000  1927.349976  1915.449951   683129.0   \n",
       "2020-01-07  1931.000000  1918.000000  1919.250000  1920.699951   808935.0   \n",
       "...                 ...          ...          ...          ...        ...   \n",
       "2022-04-25  2162.000000  2047.000000  2100.000000  2100.750000  2437310.0   \n",
       "2022-04-26  2157.949951  2121.000000  2142.199951  2148.350098  1447088.0   \n",
       "2022-04-27  2152.399902  2103.500000  2147.800049  2145.100098  2214481.0   \n",
       "2022-04-28  2250.000000  2165.000000  2230.000000  2241.850098  5865359.0   \n",
       "2022-04-29  2290.000000  2222.550049  2244.399902  2234.850098  2678692.0   \n",
       "\n",
       "              Adj Close  \n",
       "Date                     \n",
       "2020-01-01  1877.706543  \n",
       "2020-01-02  1879.160889  \n",
       "2020-01-03  1868.882935  \n",
       "2020-01-06  1857.247437  \n",
       "2020-01-07  1862.338013  \n",
       "...                 ...  \n",
       "2022-04-25  2100.750000  \n",
       "2022-04-26  2148.350098  \n",
       "2022-04-27  2145.100098  \n",
       "2022-04-28  2241.850098  \n",
       "2022-04-29  2234.850098  \n",
       "\n",
       "[579 rows x 6 columns]"
      ]
     },
     "execution_count": 473,
     "metadata": {},
     "output_type": "execute_result"
    }
   ],
   "source": [
    "df"
   ]
  },
  {
   "cell_type": "code",
   "execution_count": 474,
   "id": "divided-death",
   "metadata": {},
   "outputs": [
    {
     "data": {
      "text/plain": [
       "(579, 6)"
      ]
     },
     "execution_count": 474,
     "metadata": {},
     "output_type": "execute_result"
    }
   ],
   "source": [
    "df.shape\n"
   ]
  },
  {
   "cell_type": "code",
   "execution_count": 475,
   "id": "adjacent-burlington",
   "metadata": {},
   "outputs": [
    {
     "data": {
      "image/png": "[encoded data removed]",
      "text/plain": [
       "<Figure size 1152x576 with 1 Axes>"
      ]
     },
     "metadata": {},
     "output_type": "display_data"
    }
   ],
   "source": [
    "#visualise the closing price\n",
    "plt.figure(figsize=(16,8))\n",
    "plt.title('Close Price History')\n",
    "plt.plot(df['Close'])\n",
    "plt.xlabel('Date', fontsize=18)\n",
    "plt.ylabel('Close Price INR', fontsize=18)\n",
    "plt.show()"
   ]
  },
  {
   "cell_type": "code",
   "execution_count": 476,
   "id": "painful-paintball",
   "metadata": {},
   "outputs": [
    {
     "data": {
      "text/plain": [
       "464"
      ]
     },
     "execution_count": 476,
     "metadata": {},
     "output_type": "execute_result"
    }
   ],
   "source": [
    "#Create a new dataframe with only close column\n",
    "data = df.filter(['Close'])\n",
    "dataset = data.values #converting to numpy array\n",
    "#get the no of rows to train the model on\n",
    "training_data_len = math.ceil(len(dataset) * 0.8)\n",
    "training_data_len"
   ]
  },
  {
   "cell_type": "code",
   "execution_count": 477,
   "id": "endangered-silence",
   "metadata": {},
   "outputs": [
    {
     "data": {
      "text/plain": [
       "array([[0.10085717],\n",
       "       [0.10239697],\n",
       "       [0.09151559],\n",
       "       [0.07919716],\n",
       "       [0.08458647],\n",
       "       [0.09346603],\n",
       "       [0.09931736],\n",
       "       [0.11877017],\n",
       "       [0.16070414],\n",
       "       [0.1750244 ],\n",
       "       [0.18821536],\n",
       "       [0.21654773],\n",
       "       [0.227891  ],\n",
       "       [0.23050872],\n",
       "       [0.22286083],\n",
       "       [0.21906269],\n",
       "       [0.22440063],\n",
       "       [0.24164649],\n",
       "       [0.22896892],\n",
       "       [0.22819902],\n",
       "       [0.24215976],\n",
       "       [0.22563268],\n",
       "       [0.20114969],\n",
       "       [0.34968941],\n",
       "       [0.32571994],\n",
       "       [0.33054461],\n",
       "       [0.32654097],\n",
       "       [0.33018522],\n",
       "       [0.32951807],\n",
       "       [0.32269146],\n",
       "       [0.43324959],\n",
       "       [0.45691105],\n",
       "       [0.4278089 ],\n",
       "       [0.42529394],\n",
       "       [0.40661078],\n",
       "       [0.46589324],\n",
       "       [0.42082841],\n",
       "       [0.38684996],\n",
       "       [0.40578975],\n",
       "       [0.4084586 ],\n",
       "       [0.42770615],\n",
       "       [0.34537801],\n",
       "       [0.32967195],\n",
       "       [0.33706296],\n",
       "       [0.3465073 ],\n",
       "       [0.38977569],\n",
       "       [0.35990339],\n",
       "       [0.29071496],\n",
       "       [0.32510392],\n",
       "       [0.22342547],\n",
       "       [0.20007178],\n",
       "       [0.10634911],\n",
       "       [0.17014835],\n",
       "       [0.08776883],\n",
       "       [0.        ],\n",
       "       [0.21906269],\n",
       "       [0.03223313],\n",
       "       [0.19457983],\n",
       "       [0.25647988],\n",
       "       [0.36606261],\n",
       "       [0.31027052],\n",
       "       [0.35523285],\n",
       "       [0.47241184],\n",
       "       [0.35040793],\n",
       "       [0.32418014],\n",
       "       [0.62269662],\n",
       "       [0.63907007],\n",
       "       [0.54811888],\n",
       "       [0.5216342 ],\n",
       "       [0.66647854],\n",
       "       [0.61366331],\n",
       "       [0.56120721],\n",
       "       [0.51147159],\n",
       "       [0.49181327],\n",
       "       [0.56238763],\n",
       "       [0.49191603],\n",
       "       [0.45660329],\n",
       "       [0.49494426],\n",
       "       [0.46363491],\n",
       "       [0.40389056],\n",
       "       [0.36616536],\n",
       "       [0.25083394],\n",
       "       [0.20859208],\n",
       "       [0.17646145],\n",
       "       [0.15782992],\n",
       "       [0.25781443],\n",
       "       [0.21526456],\n",
       "       [0.17784737],\n",
       "       [0.16162805],\n",
       "       [0.17220142],\n",
       "       [0.19894261],\n",
       "       [0.17138014],\n",
       "       [0.14089207],\n",
       "       [0.156598  ],\n",
       "       [0.13611866],\n",
       "       [0.15356977],\n",
       "       [0.14320178],\n",
       "       [0.16404039],\n",
       "       [0.17620481],\n",
       "       [0.22486277],\n",
       "       [0.27742137],\n",
       "       [0.2762407 ],\n",
       "       [0.28968843],\n",
       "       [0.28979118],\n",
       "       [0.25591549],\n",
       "       [0.28065486],\n",
       "       [0.27531692],\n",
       "       [0.28876464],\n",
       "       [0.27572743],\n",
       "       [0.27608682],\n",
       "       [0.25252787],\n",
       "       [0.24436696],\n",
       "       [0.24631728],\n",
       "       [0.23307506],\n",
       "       [0.26120205],\n",
       "       [0.26946572],\n",
       "       [0.32607908],\n",
       "       [0.29974853],\n",
       "       [0.34373545],\n",
       "       [0.32428264],\n",
       "       [0.35379555],\n",
       "       [0.35076732],\n",
       "       [0.34091247],\n",
       "       [0.32176768],\n",
       "       [0.34430009],\n",
       "       [0.33187916],\n",
       "       [0.32423126],\n",
       "       [0.35697791],\n",
       "       [0.3465073 ],\n",
       "       [0.39572965],\n",
       "       [0.43827952],\n",
       "       [0.40697017],\n",
       "       [0.44844213],\n",
       "       [0.46147933],\n",
       "       [0.50941852],\n",
       "       [0.50572289],\n",
       "       [0.4924293 ],\n",
       "       [0.42108504],\n",
       "       [0.38294933],\n",
       "       [0.38084488],\n",
       "       [0.39336857],\n",
       "       [0.4149772 ],\n",
       "       [0.40342867],\n",
       "       [0.36678138],\n",
       "       [0.38146065],\n",
       "       [0.37591745],\n",
       "       [0.36903971],\n",
       "       [0.36570347],\n",
       "       [0.39229065],\n",
       "       [0.38212805],\n",
       "       [0.37822716],\n",
       "       [0.38223055],\n",
       "       [0.36626812],\n",
       "       [0.36991212],\n",
       "       [0.34450535],\n",
       "       [0.36724327],\n",
       "       [0.38602893],\n",
       "       [0.36472831],\n",
       "       [0.35661853],\n",
       "       [0.37340249],\n",
       "       [0.36554934],\n",
       "       [0.34984354],\n",
       "       [0.35364167],\n",
       "       [0.34178513],\n",
       "       [0.32197293],\n",
       "       [0.28645494],\n",
       "       [0.33193028],\n",
       "       [0.31139956],\n",
       "       [0.30883322],\n",
       "       [0.29394845],\n",
       "       [0.33290569],\n",
       "       [0.31201558],\n",
       "       [0.30175022],\n",
       "       [0.30344391],\n",
       "       [0.3294667 ],\n",
       "       [0.29276803],\n",
       "       [0.29374319],\n",
       "       [0.31329875],\n",
       "       [0.2975927 ],\n",
       "       [0.26730989],\n",
       "       [0.20479394],\n",
       "       [0.19350205],\n",
       "       [0.21993535],\n",
       "       [0.22850678],\n",
       "       [0.24713856],\n",
       "       [0.23097061],\n",
       "       [0.20007178],\n",
       "       [0.23605192],\n",
       "       [0.26351176],\n",
       "       [0.27998771],\n",
       "       [0.28496626],\n",
       "       [0.30903873],\n",
       "       [0.33105788],\n",
       "       [0.30934649],\n",
       "       [0.30806332],\n",
       "       [0.30785806],\n",
       "       [0.32833741],\n",
       "       [0.32258896],\n",
       "       [0.32053588],\n",
       "       [0.34850899],\n",
       "       [0.34368432],\n",
       "       [0.33347009],\n",
       "       [0.35010017],\n",
       "       [0.31365814],\n",
       "       [0.33716572],\n",
       "       [0.3473797 ],\n",
       "       [0.33470213],\n",
       "       [0.29133098],\n",
       "       [0.2391829 ],\n",
       "       [0.23990143],\n",
       "       [0.22316884],\n",
       "       [0.22763437],\n",
       "       [0.2710569 ],\n",
       "       [0.2626391 ],\n",
       "       [0.30205823],\n",
       "       [0.30621576],\n",
       "       [0.30062093],\n",
       "       [0.36318851],\n",
       "       [0.35625939],\n",
       "       [0.3586716 ],\n",
       "       [0.34830373],\n",
       "       [0.30159634],\n",
       "       [0.30021042],\n",
       "       [0.28943179],\n",
       "       [0.2988245 ],\n",
       "       [0.32751638],\n",
       "       [0.30544585],\n",
       "       [0.32428264],\n",
       "       [0.30785806],\n",
       "       [0.3025715 ],\n",
       "       [0.30898735],\n",
       "       [0.29713081],\n",
       "       [0.35507872],\n",
       "       [0.42893794],\n",
       "       [0.43289021],\n",
       "       [0.46594462],\n",
       "       [0.52574034],\n",
       "       [0.55068522],\n",
       "       [0.54657907],\n",
       "       [0.49453375],\n",
       "       [0.51906786],\n",
       "       [0.4896577 ],\n",
       "       [0.50828923],\n",
       "       [0.48005949],\n",
       "       [0.48524354],\n",
       "       [0.54616856],\n",
       "       [0.57891496],\n",
       "       [0.5652106 ],\n",
       "       [0.56048869],\n",
       "       [0.58338049],\n",
       "       [0.57188309],\n",
       "       [0.56382493],\n",
       "       [0.60380846],\n",
       "       [0.6284967 ],\n",
       "       [0.59436438],\n",
       "       [0.54462876],\n",
       "       [0.56757169],\n",
       "       [0.60647755],\n",
       "       [0.55186563],\n",
       "       [0.54822163],\n",
       "       [0.57511683],\n",
       "       [0.52645887],\n",
       "       [0.50741682],\n",
       "       [0.5387773 ],\n",
       "       [0.53138629],\n",
       "       [0.54339671],\n",
       "       [0.58620347],\n",
       "       [0.57619474],\n",
       "       [0.56767444],\n",
       "       [0.47436216],\n",
       "       [0.4368936 ],\n",
       "       [0.42118779],\n",
       "       [0.40255601],\n",
       "       [0.40501985],\n",
       "       [0.41810819],\n",
       "       [0.44269367],\n",
       "       [0.40892049],\n",
       "       [0.38797925],\n",
       "       [0.40774007],\n",
       "       [0.43596981],\n",
       "       [0.41395067],\n",
       "       [0.38690134],\n",
       "       [0.36729465],\n",
       "       [0.33423999],\n",
       "       [0.31673775],\n",
       "       [0.35189661],\n",
       "       [0.33803837],\n",
       "       [0.34999742],\n",
       "       [0.3495869 ],\n",
       "       [0.33362422],\n",
       "       [0.30154497],\n",
       "       [0.313196  ],\n",
       "       [0.34866287],\n",
       "       [0.36462556],\n",
       "       [0.36811568],\n",
       "       [0.37242733],\n",
       "       [0.34517275],\n",
       "       [0.36975824],\n",
       "       [0.39988717],\n",
       "       [0.37617409],\n",
       "       [0.38243606],\n",
       "       [0.41651701],\n",
       "       [0.39829599],\n",
       "       [0.38690134],\n",
       "       [0.48632146],\n",
       "       [0.52856332],\n",
       "       [0.51224149],\n",
       "       [0.49304532],\n",
       "       [0.40933125],\n",
       "       [0.49232654],\n",
       "       [0.57532208],\n",
       "       [0.60894114],\n",
       "       [0.57568147],\n",
       "       [0.54909404],\n",
       "       [0.58512555],\n",
       "       [0.58199457],\n",
       "       [0.58676786],\n",
       "       [0.65462199],\n",
       "       [0.64025049],\n",
       "       [0.63244871],\n",
       "       [0.63886456],\n",
       "       [0.63706813],\n",
       "       [0.6142277 ],\n",
       "       [0.57398754],\n",
       "       [0.52466243],\n",
       "       [0.4819073 ],\n",
       "       [0.53621096],\n",
       "       [0.55592065],\n",
       "       [0.58332911],\n",
       "       [0.58440703],\n",
       "       [0.52912796],\n",
       "       [0.58481754],\n",
       "       [0.58445815],\n",
       "       [0.57111319],\n",
       "       [0.56633989],\n",
       "       [0.58810241],\n",
       "       [0.61037819],\n",
       "       [0.57876108],\n",
       "       [0.50366982],\n",
       "       [0.55284104],\n",
       "       [0.55222502],\n",
       "       [0.55017195],\n",
       "       [0.53528718],\n",
       "       [0.51927311],\n",
       "       [0.53785352],\n",
       "       [0.51147159],\n",
       "       [0.51917061],\n",
       "       [0.52938459],\n",
       "       [0.5010521 ],\n",
       "       [0.49622743],\n",
       "       [0.51506447],\n",
       "       [0.53379875],\n",
       "       [0.53431202],\n",
       "       [0.53888005],\n",
       "       [0.51711754],\n",
       "       [0.51429456],\n",
       "       [0.53451727],\n",
       "       [0.53143767],\n",
       "       [0.55484274],\n",
       "       [0.5422163 ],\n",
       "       [0.54026598],\n",
       "       [0.56834159],\n",
       "       [0.58471479],\n",
       "       [0.59477489],\n",
       "       [0.66170499],\n",
       "       [0.69398975],\n",
       "       [0.66925013],\n",
       "       [0.65924141],\n",
       "       [0.66914738],\n",
       "       [0.62654613],\n",
       "       [0.63840267],\n",
       "       [0.67161122],\n",
       "       [0.64979732],\n",
       "       [0.65667507],\n",
       "       [0.6662219 ],\n",
       "       [0.6782837 ],\n",
       "       [0.65102912],\n",
       "       [0.66042182],\n",
       "       [0.62541709],\n",
       "       [0.62942048],\n",
       "       [0.62192672],\n",
       "       [0.61427908],\n",
       "       [0.59184941],\n",
       "       [0.58928307],\n",
       "       [0.59446688],\n",
       "       [0.58548469],\n",
       "       [0.61243126],\n",
       "       [0.55417534],\n",
       "       [0.53359349],\n",
       "       [0.5239439 ],\n",
       "       [0.51747668],\n",
       "       [0.53698086],\n",
       "       [0.50962378],\n",
       "       [0.50813535],\n",
       "       [0.50762208],\n",
       "       [0.5631064 ],\n",
       "       [0.55309768],\n",
       "       [0.53318273],\n",
       "       [0.54734898],\n",
       "       [0.56069394],\n",
       "       [0.55792235],\n",
       "       [0.56680178],\n",
       "       [0.56870098],\n",
       "       [0.58122467],\n",
       "       [0.6037057 ],\n",
       "       [0.66262903],\n",
       "       [0.66493873],\n",
       "       [0.80182716],\n",
       "       [0.81696857],\n",
       "       [0.81578815],\n",
       "       [0.82810659],\n",
       "       [0.85007436],\n",
       "       [0.8619309 ],\n",
       "       [0.87193963],\n",
       "       [0.90930569],\n",
       "       [0.91833901],\n",
       "       [0.98829759],\n",
       "       [0.95303598],\n",
       "       [0.96730498],\n",
       "       [0.96432787],\n",
       "       [0.98814346],\n",
       "       [0.99815218],\n",
       "       [0.97320756],\n",
       "       [0.94877595],\n",
       "       [0.96201817],\n",
       "       [0.95462716],\n",
       "       [0.9074065 ],\n",
       "       [0.98757906],\n",
       "       [1.        ],\n",
       "       [0.97130837],\n",
       "       [0.96905004],\n",
       "       [0.93245388],\n",
       "       [0.89431816],\n",
       "       [0.90904906],\n",
       "       [0.86947604],\n",
       "       [0.88641389],\n",
       "       [0.88872359],\n",
       "       [0.87039982],\n",
       "       [0.89344551],\n",
       "       [0.87024594],\n",
       "       [0.85315397],\n",
       "       [0.82302528],\n",
       "       [0.82820934],\n",
       "       [0.86008309],\n",
       "       [0.82990303],\n",
       "       [0.83277738],\n",
       "       [0.83734541],\n",
       "       [0.7273008 ],\n",
       "       [0.65734221],\n",
       "       [0.62356928],\n",
       "       [0.63214095],\n",
       "       [0.63393739],\n",
       "       [0.61443321],\n",
       "       [0.57311513],\n",
       "       [0.5659805 ],\n",
       "       [0.56957338],\n",
       "       [0.58389376],\n",
       "       [0.59600668],\n",
       "       [0.58825654],\n",
       "       [0.6000617 ],\n",
       "       [0.60935165],\n",
       "       [0.60858175],\n",
       "       [0.57675913],\n",
       "       [0.55217364],\n",
       "       [0.58168656],\n",
       "       [0.60201202],\n",
       "       [0.58343162],\n",
       "       [0.56752031],\n",
       "       [0.57598923],\n",
       "       [0.56485147],\n",
       "       [0.57065129],\n",
       "       [0.55068522],\n",
       "       [0.52430329],\n",
       "       [0.50998316],\n",
       "       [0.50413171],\n",
       "       [0.49196741],\n",
       "       [0.51999189],\n",
       "       [0.55946215],\n",
       "       [0.51875985],\n",
       "       [0.48062413],\n",
       "       [0.49612493],\n",
       "       [0.51562911],\n",
       "       [0.51475646],\n",
       "       [0.50762208],\n",
       "       [0.47841718],\n",
       "       [0.49273731],\n",
       "       [0.49545753],\n",
       "       [0.48370374],\n",
       "       [0.40235076],\n",
       "       [0.44223178],\n",
       "       [0.44608129],\n",
       "       [0.45100847],\n",
       "       [0.4746188 ],\n",
       "       [0.47082066],\n",
       "       [0.4753887 ],\n",
       "       [0.48329323],\n",
       "       [0.48098352],\n",
       "       [0.50023107],\n",
       "       [0.53569769],\n",
       "       [0.53687836],\n",
       "       [0.57788842],\n",
       "       [0.59282457],\n",
       "       [0.56777694],\n",
       "       [0.59318371],\n",
       "       [0.58384238],\n",
       "       [0.58035201],\n",
       "       [0.5901041 ],\n",
       "       [0.59118202],\n",
       "       [0.53934194],\n",
       "       [0.565878  ],\n",
       "       [0.5452959 ],\n",
       "       [0.48411425],\n",
       "       [0.43473802],\n",
       "       [0.50002556],\n",
       "       [0.45814309],\n",
       "       [0.50192476],\n",
       "       [0.46917836],\n",
       "       [0.45706518],\n",
       "       [0.44700508],\n",
       "       [0.47975148],\n",
       "       [0.5025919 ],\n",
       "       [0.47205246],\n",
       "       [0.48072689],\n",
       "       [0.43042662],\n",
       "       [0.43735574],\n",
       "       [0.45100847],\n",
       "       [0.45665441],\n",
       "       [0.43083713],\n",
       "       [0.4006057 ],\n",
       "       [0.46378904],\n",
       "       [0.46009341],\n",
       "       [0.48170204],\n",
       "       [0.48683473],\n",
       "       [0.46861371],\n",
       "       [0.44310419],\n",
       "       [0.43330072],\n",
       "       [0.34193901],\n",
       "       [0.34122049],\n",
       "       [0.34265779],\n",
       "       [0.31904746],\n",
       "       [0.25940561],\n",
       "       [0.18600828],\n",
       "       [0.10845343],\n",
       "       [0.11363749],\n",
       "       [0.16383513],\n",
       "       [0.27064613],\n",
       "       [0.26289573],\n",
       "       [0.22686447],\n",
       "       [0.20520446],\n",
       "       [0.24005531],\n",
       "       [0.27074889],\n",
       "       [0.21854943],\n",
       "       [0.15931835],\n",
       "       [0.14397168],\n",
       "       [0.13098598],\n",
       "       [0.11774364],\n",
       "       [0.14043006],\n",
       "       [0.15269724],\n",
       "       [0.18231278],\n",
       "       [0.21593171],\n",
       "       [0.24621452],\n",
       "       [0.29784934],\n",
       "       [0.30950062],\n",
       "       [0.31181033],\n",
       "       [0.33516402],\n",
       "       [0.35389831],\n",
       "       [0.33336758],\n",
       "       [0.30175022],\n",
       "       [0.32217819],\n",
       "       [0.34835486],\n",
       "       [0.28204078],\n",
       "       [0.3353179 ],\n",
       "       [0.36919359],\n",
       "       [0.29630953],\n",
       "       [0.26941434],\n",
       "       [0.31827755],\n",
       "       [0.31494131],\n",
       "       [0.41425868],\n",
       "       [0.40707292]])"
      ]
     },
     "execution_count": 477,
     "metadata": {},
     "output_type": "execute_result"
    }
   ],
   "source": [
    "#Scale the data\n",
    "scaler = MinMaxScaler(feature_range=(0, 1))\n",
    "scaled_data = scaler.fit_transform(dataset)\n",
    "\n",
    "scaled_data"
   ]
  },
  {
   "cell_type": "code",
   "execution_count": 478,
   "id": "opposed-green",
   "metadata": {},
   "outputs": [
    {
     "data": {
      "text/plain": [
       "579"
      ]
     },
     "execution_count": 478,
     "metadata": {},
     "output_type": "execute_result"
    }
   ],
   "source": [
    "len(scaled_data)"
   ]
  },
  {
   "cell_type": "code",
   "execution_count": 479,
   "id": "promotional-federal",
   "metadata": {},
   "outputs": [],
   "source": [
    "#Create the training dataset\n",
    "#Create the scaled training dataset\n",
    "\n",
    "train_data = scaled_data[0: training_data_len, :]\n",
    "#Split the data into X_train and Y_train data sets\n",
    "\n",
    "x_train = []\n",
    "y_train = []\n",
    "\n",
    "for i in range(30, len(train_data)):\n",
    "    x_train.append(train_data[i - 30 : i, 0 ])\n",
    "    y_train.append(train_data[i, 0])\n",
    "#     if i<= 60:\n",
    "#         print(x_train)\n",
    "#         print(y_train)\n",
    "#         print()"
   ]
  },
  {
   "cell_type": "code",
   "execution_count": 480,
   "id": "stylish-median",
   "metadata": {},
   "outputs": [
    {
     "data": {
      "text/plain": [
       "(434, 30)"
      ]
     },
     "execution_count": 480,
     "metadata": {},
     "output_type": "execute_result"
    }
   ],
   "source": [
    "#Convert the x_train and y_train to numpy arrays\n",
    "x_train, y_train = np.array(x_train), np.array(y_train)\n",
    "x_train.shape"
   ]
  },
  {
   "cell_type": "code",
   "execution_count": null,
   "id": "increased-income",
   "metadata": {},
   "outputs": [],
   "source": []
  },
  {
   "cell_type": "code",
   "execution_count": 481,
   "id": "natural-transcript",
   "metadata": {},
   "outputs": [
    {
     "data": {
      "text/plain": [
       "(434, 30, 1)"
      ]
     },
     "execution_count": 481,
     "metadata": {},
     "output_type": "execute_result"
    }
   ],
   "source": [
    "#Reshape the data\n",
    "x_train = np.reshape(x_train, (x_train.shape[0], x_train.shape[1], 1)) #(1345, 60, 1)\n",
    "x_train.shape"
   ]
  },
  {
   "cell_type": "code",
   "execution_count": 482,
   "id": "buried-flower",
   "metadata": {},
   "outputs": [],
   "source": [
    "#Build the LSTM model\n",
    "\n",
    "model = Sequential()\n",
    "model.add(LSTM(50, return_sequences=True, input_shape=(x_train.shape[1], 1))) #(60, 1)\n",
    "\n",
    "model.add(LSTM(50, return_sequences=False, ))\n",
    "model.add(Dense(25))\n",
    "model.add(Dense(1))"
   ]
  },
  {
   "cell_type": "markdown",
   "id": "perceived-casino",
   "metadata": {},
   "source": []
  },
  {
   "cell_type": "code",
   "execution_count": 483,
   "id": "noted-uganda",
   "metadata": {},
   "outputs": [],
   "source": [
    "#Compile the model\n",
    "\n",
    "model.compile(optimizer='adam', loss='mean_squared_error')"
   ]
  },
  {
   "cell_type": "code",
   "execution_count": 484,
   "id": "wrapped-pearl",
   "metadata": {},
   "outputs": [
    {
     "name": "stdout",
     "output_type": "stream",
     "text": [
      "Epoch 1/100\n",
      "7/7 [==============================] - 6s 46ms/step - loss: 0.1057\n",
      "Epoch 2/100\n",
      "7/7 [==============================] - 0s 43ms/step - loss: 0.0252\n",
      "Epoch 3/100\n",
      "7/7 [==============================] - 0s 44ms/step - loss: 0.0186\n",
      "Epoch 4/100\n",
      "7/7 [==============================] - 0s 47ms/step - loss: 0.0125\n",
      "Epoch 5/100\n",
      "7/7 [==============================] - 0s 46ms/step - loss: 0.0113\n",
      "Epoch 6/100\n",
      "7/7 [==============================] - 0s 50ms/step - loss: 0.0092\n",
      "Epoch 7/100\n",
      "7/7 [==============================] - 0s 45ms/step - loss: 0.0087\n",
      "Epoch 8/100\n",
      "7/7 [==============================] - 0s 46ms/step - loss: 0.0082\n",
      "Epoch 9/100\n",
      "7/7 [==============================] - 0s 46ms/step - loss: 0.0077\n",
      "Epoch 10/100\n",
      "7/7 [==============================] - 0s 48ms/step - loss: 0.0074\n",
      "Epoch 11/100\n",
      "7/7 [==============================] - 0s 47ms/step - loss: 0.0072\n",
      "Epoch 12/100\n",
      "7/7 [==============================] - 0s 49ms/step - loss: 0.0069\n",
      "Epoch 13/100\n",
      "7/7 [==============================] - 0s 45ms/step - loss: 0.0066\n",
      "Epoch 14/100\n",
      "7/7 [==============================] - 0s 46ms/step - loss: 0.0064\n",
      "Epoch 15/100\n",
      "7/7 [==============================] - 0s 49ms/step - loss: 0.0062\n",
      "Epoch 16/100\n",
      "7/7 [==============================] - 0s 47ms/step - loss: 0.0060\n",
      "Epoch 17/100\n",
      "7/7 [==============================] - 0s 42ms/step - loss: 0.0058\n",
      "Epoch 18/100\n",
      "7/7 [==============================] - 0s 54ms/step - loss: 0.0056\n",
      "Epoch 19/100\n",
      "7/7 [==============================] - 0s 49ms/step - loss: 0.0053\n",
      "Epoch 20/100\n",
      "7/7 [==============================] - 0s 49ms/step - loss: 0.0052\n",
      "Epoch 21/100\n",
      "7/7 [==============================] - 0s 45ms/step - loss: 0.0050\n",
      "Epoch 22/100\n",
      "7/7 [==============================] - 0s 51ms/step - loss: 0.0050\n",
      "Epoch 23/100\n",
      "7/7 [==============================] - 0s 45ms/step - loss: 0.0047\n",
      "Epoch 24/100\n",
      "7/7 [==============================] - 0s 43ms/step - loss: 0.0046\n",
      "Epoch 25/100\n",
      "7/7 [==============================] - 0s 47ms/step - loss: 0.0045\n",
      "Epoch 26/100\n",
      "7/7 [==============================] - 0s 51ms/step - loss: 0.0044\n",
      "Epoch 27/100\n",
      "7/7 [==============================] - 0s 50ms/step - loss: 0.0043\n",
      "Epoch 28/100\n",
      "7/7 [==============================] - 0s 48ms/step - loss: 0.0042\n",
      "Epoch 29/100\n",
      "7/7 [==============================] - 0s 47ms/step - loss: 0.0041\n",
      "Epoch 30/100\n",
      "7/7 [==============================] - 0s 45ms/step - loss: 0.0040\n",
      "Epoch 31/100\n",
      "7/7 [==============================] - 0s 45ms/step - loss: 0.0039\n",
      "Epoch 32/100\n",
      "7/7 [==============================] - 0s 45ms/step - loss: 0.0039\n",
      "Epoch 33/100\n",
      "7/7 [==============================] - 0s 41ms/step - loss: 0.0038\n",
      "Epoch 34/100\n",
      "7/7 [==============================] - 0s 49ms/step - loss: 0.0036\n",
      "Epoch 35/100\n",
      "7/7 [==============================] - 0s 45ms/step - loss: 0.0036\n",
      "Epoch 36/100\n",
      "7/7 [==============================] - 0s 49ms/step - loss: 0.0034\n",
      "Epoch 37/100\n",
      "7/7 [==============================] - 0s 45ms/step - loss: 0.0035\n",
      "Epoch 38/100\n",
      "7/7 [==============================] - 0s 48ms/step - loss: 0.0034\n",
      "Epoch 39/100\n",
      "7/7 [==============================] - 0s 44ms/step - loss: 0.0033\n",
      "Epoch 40/100\n",
      "7/7 [==============================] - 0s 48ms/step - loss: 0.0033\n",
      "Epoch 41/100\n",
      "7/7 [==============================] - 0s 49ms/step - loss: 0.0033\n",
      "Epoch 42/100\n",
      "7/7 [==============================] - 0s 46ms/step - loss: 0.0033\n",
      "Epoch 43/100\n",
      "7/7 [==============================] - 0s 42ms/step - loss: 0.0031\n",
      "Epoch 44/100\n",
      "7/7 [==============================] - 0s 48ms/step - loss: 0.0031\n",
      "Epoch 45/100\n",
      "7/7 [==============================] - 0s 51ms/step - loss: 0.0030\n",
      "Epoch 46/100\n",
      "7/7 [==============================] - 0s 46ms/step - loss: 0.0030\n",
      "Epoch 47/100\n",
      "7/7 [==============================] - 0s 54ms/step - loss: 0.0029\n",
      "Epoch 48/100\n",
      "7/7 [==============================] - 0s 46ms/step - loss: 0.0029\n",
      "Epoch 49/100\n",
      "7/7 [==============================] - 0s 44ms/step - loss: 0.0029\n",
      "Epoch 50/100\n",
      "7/7 [==============================] - 0s 51ms/step - loss: 0.0029\n",
      "Epoch 51/100\n",
      "7/7 [==============================] - 0s 45ms/step - loss: 0.0030\n",
      "Epoch 52/100\n",
      "7/7 [==============================] - 0s 45ms/step - loss: 0.0030\n",
      "Epoch 53/100\n",
      "7/7 [==============================] - 0s 50ms/step - loss: 0.0028\n",
      "Epoch 54/100\n",
      "7/7 [==============================] - 0s 46ms/step - loss: 0.0028\n",
      "Epoch 55/100\n",
      "7/7 [==============================] - 0s 50ms/step - loss: 0.0028\n",
      "Epoch 56/100\n",
      "7/7 [==============================] - 0s 47ms/step - loss: 0.0028\n",
      "Epoch 57/100\n",
      "7/7 [==============================] - 0s 44ms/step - loss: 0.0028\n",
      "Epoch 58/100\n",
      "7/7 [==============================] - 0s 46ms/step - loss: 0.0027\n",
      "Epoch 59/100\n",
      "7/7 [==============================] - 0s 46ms/step - loss: 0.0027\n",
      "Epoch 60/100\n",
      "7/7 [==============================] - 0s 44ms/step - loss: 0.0027\n",
      "Epoch 61/100\n",
      "7/7 [==============================] - 0s 47ms/step - loss: 0.0027\n",
      "Epoch 62/100\n",
      "7/7 [==============================] - 0s 45ms/step - loss: 0.0031\n",
      "Epoch 63/100\n",
      "7/7 [==============================] - 0s 47ms/step - loss: 0.0029\n",
      "Epoch 64/100\n",
      "7/7 [==============================] - 0s 50ms/step - loss: 0.0028\n",
      "Epoch 65/100\n",
      "7/7 [==============================] - 0s 52ms/step - loss: 0.0027\n",
      "Epoch 66/100\n",
      "7/7 [==============================] - 0s 47ms/step - loss: 0.0027\n",
      "Epoch 67/100\n",
      "7/7 [==============================] - 0s 46ms/step - loss: 0.0026\n",
      "Epoch 68/100\n",
      "7/7 [==============================] - 0s 45ms/step - loss: 0.0027\n",
      "Epoch 69/100\n",
      "7/7 [==============================] - 0s 46ms/step - loss: 0.0026\n",
      "Epoch 70/100\n",
      "7/7 [==============================] - 0s 44ms/step - loss: 0.0026\n",
      "Epoch 71/100\n",
      "7/7 [==============================] - 0s 48ms/step - loss: 0.0027\n",
      "Epoch 72/100\n",
      "7/7 [==============================] - 0s 52ms/step - loss: 0.0029\n",
      "Epoch 73/100\n",
      "7/7 [==============================] - 0s 51ms/step - loss: 0.0026\n",
      "Epoch 74/100\n",
      "7/7 [==============================] - 0s 43ms/step - loss: 0.0025\n",
      "Epoch 75/100\n",
      "7/7 [==============================] - 0s 41ms/step - loss: 0.0027\n",
      "Epoch 76/100\n",
      "7/7 [==============================] - 0s 62ms/step - loss: 0.0026\n",
      "Epoch 77/100\n",
      "7/7 [==============================] - 0s 57ms/step - loss: 0.0025\n",
      "Epoch 78/100\n",
      "7/7 [==============================] - 0s 50ms/step - loss: 0.0025\n",
      "Epoch 79/100\n",
      "7/7 [==============================] - 0s 57ms/step - loss: 0.0026\n",
      "Epoch 80/100\n",
      "7/7 [==============================] - 0s 58ms/step - loss: 0.0025\n",
      "Epoch 81/100\n",
      "7/7 [==============================] - 0s 64ms/step - loss: 0.0025\n",
      "Epoch 82/100\n",
      "7/7 [==============================] - 0s 55ms/step - loss: 0.0027\n",
      "Epoch 83/100\n",
      "7/7 [==============================] - 0s 55ms/step - loss: 0.0028\n",
      "Epoch 84/100\n",
      "7/7 [==============================] - 0s 55ms/step - loss: 0.0026\n",
      "Epoch 85/100\n",
      "7/7 [==============================] - 0s 58ms/step - loss: 0.0025\n",
      "Epoch 86/100\n",
      "7/7 [==============================] - 0s 62ms/step - loss: 0.0026\n",
      "Epoch 87/100\n",
      "7/7 [==============================] - 0s 61ms/step - loss: 0.0027\n",
      "Epoch 88/100\n",
      "7/7 [==============================] - 0s 58ms/step - loss: 0.0026\n",
      "Epoch 89/100\n",
      "7/7 [==============================] - 0s 63ms/step - loss: 0.0027\n",
      "Epoch 90/100\n",
      "7/7 [==============================] - 0s 47ms/step - loss: 0.0026\n",
      "Epoch 91/100\n",
      "7/7 [==============================] - 0s 62ms/step - loss: 0.0026\n",
      "Epoch 92/100\n",
      "7/7 [==============================] - 0s 69ms/step - loss: 0.0027\n",
      "Epoch 93/100\n",
      "7/7 [==============================] - 0s 53ms/step - loss: 0.0025\n",
      "Epoch 94/100\n",
      "7/7 [==============================] - 0s 46ms/step - loss: 0.0023\n",
      "Epoch 95/100\n",
      "7/7 [==============================] - 0s 53ms/step - loss: 0.0024\n",
      "Epoch 96/100\n",
      "7/7 [==============================] - 0s 57ms/step - loss: 0.0024\n",
      "Epoch 97/100\n",
      "7/7 [==============================] - 0s 52ms/step - loss: 0.0023\n",
      "Epoch 98/100\n",
      "7/7 [==============================] - 0s 57ms/step - loss: 0.0023\n",
      "Epoch 99/100\n",
      "7/7 [==============================] - 0s 50ms/step - loss: 0.0024\n",
      "Epoch 100/100\n",
      "7/7 [==============================] - 0s 51ms/step - loss: 0.0023\n"
     ]
    },
    {
     "data": {
      "text/plain": [
       "<keras.callbacks.History at 0x2b05c36c970>"
      ]
     },
     "execution_count": 484,
     "metadata": {},
     "output_type": "execute_result"
    }
   ],
   "source": [
    "#train the model\n",
    "\n",
    "model.fit(x_train, y_train, batch_size=64, epochs=100)"
   ]
  },
  {
   "cell_type": "code",
   "execution_count": 485,
   "id": "fatty-slovakia",
   "metadata": {},
   "outputs": [
    {
     "data": {
      "text/plain": [
       "[<matplotlib.lines.Line2D at 0x2b06bbc50a0>]"
      ]
     },
     "execution_count": 485,
     "metadata": {},
     "output_type": "execute_result"
    },
    {
     "data": {
      "image/png": "[encoded data removed]",
      "text/plain": [
       "<Figure size 432x288 with 1 Axes>"
      ]
     },
     "metadata": {},
     "output_type": "display_data"
    }
   ],
   "source": [
    "loss = model.history.history['loss']\n",
    "plt.plot(loss)"
   ]
  },
  {
   "cell_type": "code",
   "execution_count": 486,
   "id": "quarterly-organ",
   "metadata": {},
   "outputs": [],
   "source": [
    "#Create the testing data set\n",
    "\n",
    "#Create a new array containing scaled values from index 1345 to end\n",
    "\n",
    "test_data = scaled_data[training_data_len - 30 : , :]\n",
    "\n",
    "#create the datasets x_test and y_test\n",
    "\n",
    "x_test = []\n",
    "y_test = dataset[training_data_len: , :] #this will contain the actual values\n",
    "\n",
    "for i in range(30, len(test_data)):\n",
    "    x_test.append(test_data[i - 30: i, 0])"
   ]
  },
  {
   "cell_type": "code",
   "execution_count": null,
   "id": "involved-breed",
   "metadata": {},
   "outputs": [],
   "source": []
  },
  {
   "cell_type": "code",
   "execution_count": 487,
   "id": "otherwise-pointer",
   "metadata": {},
   "outputs": [],
   "source": [
    "#Convert the data to a numpy array\n",
    "x_test = np.array(x_test)"
   ]
  },
  {
   "cell_type": "code",
   "execution_count": 488,
   "id": "interested-writing",
   "metadata": {},
   "outputs": [],
   "source": [
    "#Reshape the datra\n",
    "x_test = np.reshape(x_test, (x_test.shape[0], x_test.shape[1], 1))"
   ]
  },
  {
   "cell_type": "code",
   "execution_count": 489,
   "id": "latest-position",
   "metadata": {},
   "outputs": [],
   "source": [
    "#get the models predicted price values\n",
    "\n",
    "predictions = model.predict(x_test)\n",
    "predictions = scaler.inverse_transform(predictions) #we want predictions to contain the same values as y_test dataset\n",
    "\n"
   ]
  },
  {
   "cell_type": "code",
   "execution_count": null,
   "id": "boxed-midnight",
   "metadata": {},
   "outputs": [],
   "source": []
  },
  {
   "cell_type": "code",
   "execution_count": 490,
   "id": "latter-appeal",
   "metadata": {},
   "outputs": [
    {
     "data": {
      "text/plain": [
       "12.050303583559783"
      ]
     },
     "execution_count": 490,
     "metadata": {},
     "output_type": "execute_result"
    }
   ],
   "source": [
    "#Get the root mean squared error(RMSE)\n",
    "rmse = np.sqrt(np.mean(predictions - y_test) ** 2)\n",
    "rmse"
   ]
  },
  {
   "cell_type": "code",
   "execution_count": 491,
   "id": "varying-retention",
   "metadata": {},
   "outputs": [
    {
     "name": "stderr",
     "output_type": "stream",
     "text": [
      "<ipython-input-491-e1db9ab83fe0>:4: SettingWithCopyWarning: \n",
      "A value is trying to be set on a copy of a slice from a DataFrame.\n",
      "Try using .loc[row_indexer,col_indexer] = value instead\n",
      "\n",
      "See the caveats in the documentation: https://pandas.pydata.org/pandas-docs/stable/user_guide/indexing.html#returning-a-view-versus-a-copy\n",
      "  valid['Predictions'] = predictions\n"
     ]
    },
    {
     "data": {
      "image/png": "[encoded data removed]",
      "text/plain": [
       "<Figure size 1152x576 with 1 Axes>"
      ]
     },
     "metadata": {},
     "output_type": "display_data"
    }
   ],
   "source": [
    "#Plot the data\n",
    "train = data[0: training_data_len]\n",
    "valid = data[training_data_len: ]\n",
    "valid['Predictions'] = predictions\n",
    "\n",
    "#Visulaize the data\n",
    "plt.figure(figsize=(16,8))\n",
    "plt.title('Model')\n",
    "plt.xlabel('Date', fontsize = 18)\n",
    "plt.ylabel('Close Price INR', fontsize=18)\n",
    "plt.plot(train['Close'])\n",
    "plt.plot(valid[['Close','Predictions']])\n",
    "plt.legend(['Train', 'Val', 'Predictions'], loc='lower right')\n",
    "plt.show()"
   ]
  },
  {
   "cell_type": "code",
   "execution_count": 492,
   "id": "norwegian-replica",
   "metadata": {},
   "outputs": [
    {
     "data": {
      "text/html": [
       "<div>\n",
       "<style scoped>\n",
       "    .dataframe tbody tr th:only-of-type {\n",
       "        vertical-align: middle;\n",
       "    }\n",
       "\n",
       "    .dataframe tbody tr th {\n",
       "        vertical-align: top;\n",
       "    }\n",
       "\n",
       "    .dataframe thead th {\n",
       "        text-align: right;\n",
       "    }\n",
       "</style>\n",
       "<table border=\"1\" class=\"dataframe\">\n",
       "  <thead>\n",
       "    <tr style=\"text-align: right;\">\n",
       "      <th></th>\n",
       "      <th>Close</th>\n",
       "      <th>Predictions</th>\n",
       "    </tr>\n",
       "    <tr>\n",
       "      <th>Date</th>\n",
       "      <th></th>\n",
       "      <th></th>\n",
       "    </tr>\n",
       "  </thead>\n",
       "  <tbody>\n",
       "    <tr>\n",
       "      <th>2021-11-12</th>\n",
       "      <td>2404.949951</td>\n",
       "      <td>2391.322266</td>\n",
       "    </tr>\n",
       "    <tr>\n",
       "      <th>2021-11-15</th>\n",
       "      <td>2424.750000</td>\n",
       "      <td>2381.947998</td>\n",
       "    </tr>\n",
       "    <tr>\n",
       "      <th>2021-11-16</th>\n",
       "      <td>2406.649902</td>\n",
       "      <td>2383.265625</td>\n",
       "    </tr>\n",
       "    <tr>\n",
       "      <th>2021-11-17</th>\n",
       "      <td>2391.149902</td>\n",
       "      <td>2382.255615</td>\n",
       "    </tr>\n",
       "    <tr>\n",
       "      <th>2021-11-18</th>\n",
       "      <td>2399.399902</td>\n",
       "      <td>2375.966553</td>\n",
       "    </tr>\n",
       "    <tr>\n",
       "      <th>...</th>\n",
       "      <td>...</td>\n",
       "      <td>...</td>\n",
       "    </tr>\n",
       "    <tr>\n",
       "      <th>2022-04-25</th>\n",
       "      <td>2100.750000</td>\n",
       "      <td>2141.293213</td>\n",
       "    </tr>\n",
       "    <tr>\n",
       "      <th>2022-04-26</th>\n",
       "      <td>2148.350098</td>\n",
       "      <td>2125.033447</td>\n",
       "    </tr>\n",
       "    <tr>\n",
       "      <th>2022-04-27</th>\n",
       "      <td>2145.100098</td>\n",
       "      <td>2120.575439</td>\n",
       "    </tr>\n",
       "    <tr>\n",
       "      <th>2022-04-28</th>\n",
       "      <td>2241.850098</td>\n",
       "      <td>2120.912354</td>\n",
       "    </tr>\n",
       "    <tr>\n",
       "      <th>2022-04-29</th>\n",
       "      <td>2234.850098</td>\n",
       "      <td>2148.634033</td>\n",
       "    </tr>\n",
       "  </tbody>\n",
       "</table>\n",
       "<p>115 rows × 2 columns</p>\n",
       "</div>"
      ],
      "text/plain": [
       "                  Close  Predictions\n",
       "Date                                \n",
       "2021-11-12  2404.949951  2391.322266\n",
       "2021-11-15  2424.750000  2381.947998\n",
       "2021-11-16  2406.649902  2383.265625\n",
       "2021-11-17  2391.149902  2382.255615\n",
       "2021-11-18  2399.399902  2375.966553\n",
       "...                 ...          ...\n",
       "2022-04-25  2100.750000  2141.293213\n",
       "2022-04-26  2148.350098  2125.033447\n",
       "2022-04-27  2145.100098  2120.575439\n",
       "2022-04-28  2241.850098  2120.912354\n",
       "2022-04-29  2234.850098  2148.634033\n",
       "\n",
       "[115 rows x 2 columns]"
      ]
     },
     "execution_count": 492,
     "metadata": {},
     "output_type": "execute_result"
    }
   ],
   "source": [
    "#Show the valid and predicted prices\n",
    "\n",
    "valid"
   ]
  },
  {
   "cell_type": "code",
   "execution_count": 495,
   "id": "monetary-geology",
   "metadata": {},
   "outputs": [
    {
     "name": "stdout",
     "output_type": "stream",
     "text": [
      "[[2179.8926]]\n"
     ]
    }
   ],
   "source": [
    "#try and predict closing price at may 02 2022\n",
    "quote = web.DataReader('HINDUNILVR.NS', data_source='yahoo', start='2012-01-01', end='2022-05-01')\n",
    "#create new dataframe\n",
    "\n",
    "new_df = quote.filter(['Close'])\n",
    "\n",
    "#get last 60day closing price values and convert the dataframe to an array\n",
    "last_60_days = new_df[-30: ].values\n",
    "\n",
    "\n",
    "#scale the data\n",
    "last_60_days_scaled = scaler.transform(last_60_days)\n",
    "\n",
    "x_test1 = []\n",
    "x_test1.append(last_60_days_scaled)\n",
    "\n",
    "#convert x_test to numpy array\n",
    "x_test1 = np.array(x_test1)\n",
    "\n",
    "#reshape\n",
    "x_test1 = np.reshape(x_test1, (x_test1.shape[0], x_test1.shape[1], 1))\n",
    "# print(x_test)\n",
    "\n",
    "# print(x_test)\n",
    "#get the predicted scaled price\n",
    "pred_price = model.predict(x_test1)\n",
    "\n",
    "#undo the scaling\n",
    "pred_price = scaler.inverse_transform(pred_price)\n",
    "print(pred_price)\n"
   ]
  },
  {
   "cell_type": "code",
   "execution_count": 496,
   "id": "unnecessary-token",
   "metadata": {},
   "outputs": [
    {
     "name": "stdout",
     "output_type": "stream",
     "text": [
      "Date\n",
      "2022-05-02    2230.5\n",
      "Name: Close, dtype: float64\n"
     ]
    }
   ],
   "source": [
    "quote2 = web.DataReader('HINDUNILVR.NS', data_source='yahoo', start='2022-05-02', end='2022-05-02')\n",
    "print(quote2['Close'])"
   ]
  },
  {
   "cell_type": "code",
   "execution_count": 498,
   "id": "allied-mobile",
   "metadata": {},
   "outputs": [
    {
     "name": "stdout",
     "output_type": "stream",
     "text": [
      "[[2179.8926]]\n"
     ]
    }
   ],
   "source": [
    "dataa = web.DataReader('HINDUNILVR.NS', data_source='yahoo', start='2012-01-01', end='2022-05-01')\n",
    "\n",
    "close = dataa.filter(['Close'])\n",
    "\n",
    "#get last 60day closing price values and convert the dataframe to an array\n",
    "last_60_days = close[-30: ].values\n",
    "\n",
    "#scale the data\n",
    "last_60_days_scaled = scaler.transform(last_60_days)\n",
    "\n",
    "x_input = []\n",
    "x_input.append(last_60_days_scaled)\n",
    "\n",
    "#convert x_input to numpy array\n",
    "x_input = np.array(x_input)\n",
    "\n",
    "#reshape\n",
    "\n",
    "x_input = np.reshape(x_input, (x_input.shape[0], x_input.shape[1], 1))\n",
    "\n",
    "pred_price = model.predict(x_input)\n",
    "\n",
    "#undo the scaling\n",
    "pred_price = scaler.inverse_transform(pred_price)\n",
    "print(pred_price)\n",
    "# print(x_input.shape)\n",
    "    \n",
    "temp_input=list(x_input)\n",
    "\n",
    "temp_input=temp_input[0].tolist()\n",
    "# print(x_input)\n",
    "# print(temp_input)"
   ]
  },
  {
   "cell_type": "code",
   "execution_count": 222,
   "id": "valued-scene",
   "metadata": {},
   "outputs": [],
   "source": [
    "close2 = close.tail(60)\n"
   ]
  },
  {
   "cell_type": "code",
   "execution_count": 223,
   "id": "mathematical-actress",
   "metadata": {},
   "outputs": [],
   "source": [
    "# x_test"
   ]
  },
  {
   "cell_type": "code",
   "execution_count": 500,
   "id": "consistent-assist",
   "metadata": {
    "scrolled": false
   },
   "outputs": [],
   "source": [
    "from numpy import array\n",
    "\n",
    "lst_output=[]\n",
    "n_steps=30\n",
    "i=0\n",
    "while(i<30):\n",
    "    \n",
    "    if(len(temp_input)>30):\n",
    "        x_input=np.array(temp_input[1:], dtype=object).astype(\"float32\")\n",
    "        x_input=x_input.reshape(1,-1)\n",
    "        x_input = x_input.reshape((1, n_steps,1))\n",
    "        yhat = model.predict(x_input, verbose=0)\n",
    "#         print(x_input)\n",
    "#         print(yhat)\n",
    "        temp_input.append(yhat[0].tolist())\n",
    "        temp_input=temp_input[1:]\n",
    "        \n",
    "        #print(temp_input)\n",
    "        \n",
    "        lst_output.append(yhat[0].tolist())\n",
    "        i=i+1\n",
    "    else:\n",
    "        x_input = x_input.reshape((1, n_steps,1))\n",
    "        yhat = model.predict(x_input, verbose=0)\n",
    "#         print(x_input)\n",
    "#         print(yhat)\n",
    "        temp_input.append(yhat[0].tolist())\n",
    "        lst_output.append(yhat[0].tolist())\n",
    "        i=i+1"
   ]
  },
  {
   "cell_type": "code",
   "execution_count": 201,
   "id": "included-mission",
   "metadata": {},
   "outputs": [],
   "source": [
    "# lst_output"
   ]
  },
  {
   "cell_type": "code",
   "execution_count": 115,
   "id": "coordinate-crack",
   "metadata": {},
   "outputs": [],
   "source": [
    "lst_output = scaler.inverse_transform(lst_output)"
   ]
  },
  {
   "cell_type": "code",
   "execution_count": 262,
   "id": "changing-argument",
   "metadata": {},
   "outputs": [],
   "source": [
    "# lst_output"
   ]
  },
  {
   "cell_type": "code",
   "execution_count": 501,
   "id": "million-relay",
   "metadata": {},
   "outputs": [],
   "source": [
    "plot_new = np.arange(1, 101)\n",
    "plot_pred = np.arange(101, 131)"
   ]
  },
  {
   "cell_type": "code",
   "execution_count": 502,
   "id": "enhanced-actor",
   "metadata": {},
   "outputs": [
    {
     "data": {
      "text/plain": [
       "[<matplotlib.lines.Line2D at 0x2b06c4f3730>]"
      ]
     },
     "execution_count": 502,
     "metadata": {},
     "output_type": "execute_result"
    },
    {
     "data": {
      "image/png": "[encoded data removed]",
      "text/plain": [
       "<Figure size 432x288 with 1 Axes>"
      ]
     },
     "metadata": {},
     "output_type": "display_data"
    }
   ],
   "source": [
    "plt.plot(plot_new , scaler.inverse_transform(scaled_data[479:]))\n",
    "plt.plot(plot_pred, scaler.inverse_transform(lst_output))"
   ]
  },
  {
   "cell_type": "code",
   "execution_count": 503,
   "id": "legal-kruger",
   "metadata": {},
   "outputs": [],
   "source": [
    "ds_new = scaled_data.tolist()"
   ]
  },
  {
   "cell_type": "code",
   "execution_count": 504,
   "id": "essential-unknown",
   "metadata": {},
   "outputs": [
    {
     "data": {
      "text/plain": [
       "579"
      ]
     },
     "execution_count": 504,
     "metadata": {},
     "output_type": "execute_result"
    }
   ],
   "source": [
    "len(scaled_data)"
   ]
  },
  {
   "cell_type": "code",
   "execution_count": 505,
   "id": "crude-corps",
   "metadata": {},
   "outputs": [
    {
     "data": {
      "text/plain": [
       "[<matplotlib.lines.Line2D at 0x2b06bea6160>]"
      ]
     },
     "execution_count": 505,
     "metadata": {},
     "output_type": "execute_result"
    },
    {
     "data": {
      "image/png": "[encoded data removed]",
      "text/plain": [
       "<Figure size 432x288 with 1 Axes>"
      ]
     },
     "metadata": {},
     "output_type": "display_data"
    }
   ],
   "source": [
    "ds_new.extend(lst_output)\n",
    "plt.plot(ds_new[479: ])"
   ]
  },
  {
   "cell_type": "code",
   "execution_count": 506,
   "id": "specialized-laser",
   "metadata": {},
   "outputs": [],
   "source": [
    "final_graph = scaler.inverse_transform(ds_new).tolist()"
   ]
  },
  {
   "cell_type": "code",
   "execution_count": 507,
   "id": "cross-leave",
   "metadata": {},
   "outputs": [
    {
     "data": {
      "text/plain": [
       "<matplotlib.legend.Legend at 0x2b06beba100>"
      ]
     },
     "execution_count": 507,
     "metadata": {},
     "output_type": "execute_result"
    },
    {
     "data": {
      "image/png": "[encoded data removed]",
      "text/plain": [
       "<Figure size 1152x576 with 1 Axes>"
      ]
     },
     "metadata": {},
     "output_type": "display_data"
    }
   ],
   "source": [
    "plt.figure(figsize=(16,8))\n",
    "plt.plot(final_graph, )\n",
    "\n",
    "plt.ylabel(\"Price\")\n",
    "plt.xlabel(\"Time\")\n",
    "plt.title(\"xyz\")\n",
    "plt.axhline(y=final_graph[len(final_graph)-1], color = 'red', linestyle = ':', label = 'NEXT 30D: {0}'.format(round(float(*final_graph[len(final_graph)-1]),2)))\n",
    "plt.legend()\n"
   ]
  },
  {
   "cell_type": "code",
   "execution_count": 34,
   "id": "stock-addiction",
   "metadata": {},
   "outputs": [],
   "source": []
  },
  {
   "cell_type": "code",
   "execution_count": 259,
   "id": "still-elder",
   "metadata": {},
   "outputs": [],
   "source": [
    "# print(lst_output)"
   ]
  },
  {
   "cell_type": "code",
   "execution_count": 258,
   "id": "buried-satisfaction",
   "metadata": {},
   "outputs": [],
   "source": [
    "# listtt"
   ]
  },
  {
   "cell_type": "code",
   "execution_count": 280,
   "id": "dependent-dragon",
   "metadata": {},
   "outputs": [],
   "source": [
    "#Plot the data\n",
    "# train = data[0: training_data_len]\n",
    "# valid = data[training_data_len: ]\n",
    "# valid['Predictions'] = predictions\n",
    "# close2['next'] = lst_output\n",
    "\n",
    "# #Visulaize the data\n",
    "# plt.figure(figsize=(20,8))\n",
    "# plt.title('Model')\n",
    "# plt.xlabel('Date', fontsize = 18)\n",
    "# plt.ylabel('Close Price INR', fontsize=18)\n",
    "# plt.plot(train['Close'])\n",
    "# plt.plot(valid[['Close','Predictions']])\n",
    "# plt.plot(close2['next'])\n",
    "\n",
    "# plt.legend(['Train', 'Val', 'Predictions'], loc='lower right')\n",
    "# plt.show()"
   ]
  },
  {
   "cell_type": "code",
   "execution_count": 260,
   "id": "applied-reading",
   "metadata": {},
   "outputs": [],
   "source": [
    "# dataa2 = web.DataReader('GAIL.NS', data_source='yahoo', start='2012-01-01', end='2022-04-18')\n",
    "# # dataa2 = dataa2['Close'][-100:]\n",
    "# dataa 2 = dataa2['Close']"
   ]
  },
  {
   "cell_type": "code",
   "execution_count": 211,
   "id": "missing-mapping",
   "metadata": {},
   "outputs": [],
   "source": [
    "# list1 = dataa2 + lst_output\n"
   ]
  },
  {
   "cell_type": "code",
   "execution_count": 366,
   "id": "generic-synthetic",
   "metadata": {},
   "outputs": [],
   "source": [
    "model.save('ITC2.h5')"
   ]
  },
  {
   "cell_type": "code",
   "execution_count": 261,
   "id": "rising-trauma",
   "metadata": {},
   "outputs": [],
   "source": [
    "# plt.figure(figsize=(5, 4))\n",
    "# plt.plot(dataa2)\n",
    "# plt.plot(lst_output)\n",
    "# plt.show()"
   ]
  },
  {
   "cell_type": "code",
   "execution_count": 251,
   "id": "vanilla-setting",
   "metadata": {},
   "outputs": [
    {
     "name": "stdout",
     "output_type": "stream",
     "text": [
      "[750, 342, 215, 2593, 555]\n",
      "[793, 379, 270, 2461, 559]\n",
      "['AXISBANK', 'BPCL', 'ITC', 'TITAN', 'WIPRO']\n"
     ]
    }
   ],
   "source": [
    "current = []\n",
    "next30 = []\n",
    "symbol = []\n",
    "\n",
    "#Axis\n",
    "data = web.DataReader('AXISBANK.NS', data_source='yahoo', start='2022-03-01', end='2022-04-15')\n",
    "data = data['Close']\n",
    "current.append(round(data[0]))\n",
    "next30.append(round(data[29]))\n",
    "symbol.append(\"AXISBANK\")\n",
    "\n",
    "data = web.DataReader('BPCL.NS', data_source='yahoo', start='2022-03-01', end='2022-04-15')\n",
    "data = data['Close']\n",
    "current.append(round(data[0]))\n",
    "next30.append(round(data[29]))\n",
    "symbol.append(\"BPCL\")\n",
    "\n",
    "data = web.DataReader('ITC.NS', data_source='yahoo', start='2022-03-01', end='2022-04-15')\n",
    "data = data['Close']\n",
    "current.append(round(data[0]))\n",
    "next30.append(round(data[29]))\n",
    "symbol.append(\"ITC\")\n",
    "\n",
    "data = web.DataReader('TITAN.NS', data_source='yahoo', start='2022-03-01', end='2022-04-15')\n",
    "data = data['Close']\n",
    "current.append(round(data[0]))\n",
    "next30.append(round(data[29]))\n",
    "symbol.append(\"TITAN\")\n",
    "\n",
    "data = web.DataReader('WIPRO.NS', data_source='yahoo', start='2022-03-01', end='2022-04-15')\n",
    "data = data['Close']\n",
    "current.append(round(data[0]))\n",
    "next30.append(round(data[29]))\n",
    "symbol.append(\"WIPRO\")\n",
    "\n",
    "\n",
    "print(current)\n",
    "print(next30)\n",
    "print(symbol)\n",
    "\n"
   ]
  },
  {
   "cell_type": "code",
   "execution_count": 256,
   "id": "familiar-librarian",
   "metadata": {},
   "outputs": [],
   "source": [
    "def findP(current, next30):\n",
    "    p = []\n",
    "    for i in range(len(current)):\n",
    "        inc = ((next30[i] - current[i]) / current[i]) * 100\n",
    "        p.append(round(inc, 1))\n",
    "        \n",
    "    return p"
   ]
  },
  {
   "cell_type": "code",
   "execution_count": 257,
   "id": "oriental-maintenance",
   "metadata": {},
   "outputs": [
    {
     "name": "stdout",
     "output_type": "stream",
     "text": [
      "[5.7, 10.8, 25.6, -5.1, 0.7]\n"
     ]
    }
   ],
   "source": [
    "ans = findP(current, next30)\n",
    "print(ans)"
   ]
  },
  {
   "cell_type": "code",
   "execution_count": 514,
   "id": "processed-iceland",
   "metadata": {},
   "outputs": [],
   "source": [
    "\n",
    "def yearly(symbol):\n",
    "    import statistics\n",
    "    percentages = []\n",
    "    for i in range(2017, 2022):\n",
    "        data = web.DataReader(f\"{symbol}.NS\", data_source='yahoo', start=f'{i}-01-01', end=f'{i}-12-31')\n",
    "        data = data['Close']\n",
    "        percentage_inc = ((data[len(data) - 1] - data[0]) / data[0]) * 100\n",
    "        percentages.append(percentage_inc)\n",
    "        \n",
    "    \n",
    "    return statistics.fmean(percentages)\n",
    "        \n",
    "        \n",
    "\n"
   ]
  },
  {
   "cell_type": "code",
   "execution_count": 518,
   "id": "helpful-manner",
   "metadata": {},
   "outputs": [
    {
     "name": "stdout",
     "output_type": "stream",
     "text": [
      "[9.486513509473767, 0.9719351756197684, -1.9087238724276445, 26.076924246725998, -12.550032762899864, 30.861984007768854, 35.677714221906115, 32.765446720279016, -1.3967261875930141, 14.079724378815897, 35.99683962147297]\n"
     ]
    }
   ],
   "source": [
    "symbols = ['AXISBANK', 'BPCL', 'ITC', 'HINDUNILVR', 'COALINDIA', 'ASIANPAINT', 'WIPRO', 'TECHM', 'HEROMOTOCO', 'CIPLA', 'RELIANCE']\n",
    "\n",
    "avg_inc = []\n",
    "index = []\n",
    "\n",
    "for i in range(len(symbols)):\n",
    "    avg_inc.append(yearly(symbols[i]))\n",
    "    \n",
    "print(avg_inc)\n",
    "\n",
    "    "
   ]
  },
  {
   "cell_type": "code",
   "execution_count": 520,
   "id": "coordinated-vault",
   "metadata": {},
   "outputs": [
    {
     "name": "stdout",
     "output_type": "stream",
     "text": [
      "Stocks with average increase > 15% (last 5 years): \n",
      "HINDUNILVR\n",
      "ASIANPAINT\n",
      "WIPRO\n",
      "TECHM\n",
      "RELIANCE\n"
     ]
    }
   ],
   "source": [
    "print(\"Stocks with average increase > 15% (last 5 years): \")\n",
    "\n",
    "for i in range(len(avg_inc)):\n",
    "    if(round(avg_inc[i]) > 15):\n",
    "        print(symbols[i])"
   ]
  },
  {
   "cell_type": "code",
   "execution_count": null,
   "id": "otherwise-passport",
   "metadata": {},
   "outputs": [],
   "source": []
  }
 ],
 "metadata": {
  "kernelspec": {
   "display_name": "Python 3",
   "language": "python",
   "name": "python3"
  },
  "language_info": {
   "codemirror_mode": {
    "name": "ipython",
    "version": 3
   },
   "file_extension": ".py",
   "mimetype": "text/x-python",
   "name": "python",
   "nbconvert_exporter": "python",
   "pygments_lexer": "ipython3",
   "version": "3.9.1"
  }
 },
 "nbformat": 4,
 "nbformat_minor": 5
}
